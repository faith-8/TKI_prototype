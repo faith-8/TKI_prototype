{
 "cells": [
  {
   "cell_type": "code",
   "execution_count": 1,
   "metadata": {},
   "outputs": [],
   "source": [
    "import pandas as pd\n",
    "import os\n",
    "import sys\n",
    "from pycaret.classification import *\n",
    "from sklearn.model_selection import train_test_split"
   ]
  },
  {
   "cell_type": "code",
   "execution_count": 2,
   "metadata": {},
   "outputs": [],
   "source": [
    "#target_id = 'CHEMBL4247'\n",
    "algorithm_id = 'rf'"
   ]
  },
  {
   "cell_type": "code",
   "execution_count": 3,
   "metadata": {},
   "outputs": [],
   "source": [
    "df_target = pd.read_csv('fingerprints/report.csv')\n",
    "target_list = df_target.Chembl_ID.unique()\n",
    "target_list = target_list.tolist()"
   ]
  },
  {
   "cell_type": "code",
   "execution_count": 4,
   "metadata": {},
   "outputs": [],
   "source": [
    "#leftover = target_list[18:]"
   ]
  },
  {
   "cell_type": "code",
   "execution_count": 5,
   "metadata": {},
   "outputs": [],
   "source": [
    "IC50_threshold = 50"
   ]
  },
  {
   "cell_type": "code",
   "execution_count": 6,
   "metadata": {},
   "outputs": [],
   "source": [
    "def pIC50_classifier (df, th1):\n",
    "    threshold1 = -np.log10(th1*(10**-9))\n",
    "    pIC50_class = []\n",
    "    pIC50_list = list(df['pIC50'])\n",
    "    for p in pIC50_list:\n",
    "        if p >= threshold1:\n",
    "            pIC50_class.append(1)\n",
    "        else:\n",
    "            pIC50_class.append(0)\n",
    "    pIC50_class_series = pd.Series(pIC50_class, name= 'pIC50_class')\n",
    "    df = df.drop(['pIC50'], axis = 1)\n",
    "    df_new = pd.concat([df, pIC50_class_series], axis= 1)\n",
    "    return df_new"
   ]
  },
  {
   "cell_type": "code",
   "execution_count": 7,
   "metadata": {},
   "outputs": [
    {
     "data": {
      "text/html": [
       "<style type=\"text/css\">\n",
       "</style>\n",
       "<table id=\"T_72276_\">\n",
       "  <thead>\n",
       "    <tr>\n",
       "      <th class=\"blank level0\" >&nbsp;</th>\n",
       "      <th class=\"col_heading level0 col0\" >Model</th>\n",
       "      <th class=\"col_heading level0 col1\" >Accuracy</th>\n",
       "      <th class=\"col_heading level0 col2\" >AUC</th>\n",
       "      <th class=\"col_heading level0 col3\" >Recall</th>\n",
       "      <th class=\"col_heading level0 col4\" >Prec.</th>\n",
       "      <th class=\"col_heading level0 col5\" >F1</th>\n",
       "      <th class=\"col_heading level0 col6\" >Kappa</th>\n",
       "      <th class=\"col_heading level0 col7\" >MCC</th>\n",
       "    </tr>\n",
       "  </thead>\n",
       "  <tbody>\n",
       "    <tr>\n",
       "      <th id=\"T_72276_level0_row0\" class=\"row_heading level0 row0\" >0</th>\n",
       "      <td id=\"T_72276_row0_col0\" class=\"data row0 col0\" >Random Forest Classifier</td>\n",
       "      <td id=\"T_72276_row0_col1\" class=\"data row0 col1\" >0.7609</td>\n",
       "      <td id=\"T_72276_row0_col2\" class=\"data row0 col2\" >0.8154</td>\n",
       "      <td id=\"T_72276_row0_col3\" class=\"data row0 col3\" >0.7250</td>\n",
       "      <td id=\"T_72276_row0_col4\" class=\"data row0 col4\" >0.7250</td>\n",
       "      <td id=\"T_72276_row0_col5\" class=\"data row0 col5\" >0.7250</td>\n",
       "      <td id=\"T_72276_row0_col6\" class=\"data row0 col6\" >0.5135</td>\n",
       "      <td id=\"T_72276_row0_col7\" class=\"data row0 col7\" >0.5135</td>\n",
       "    </tr>\n",
       "  </tbody>\n",
       "</table>\n"
      ],
      "text/plain": [
       "<pandas.io.formats.style.Styler at 0x2d78e2dcc48>"
      ]
     },
     "metadata": {},
     "output_type": "display_data"
    },
    {
     "name": "stdout",
     "output_type": "stream",
     "text": [
      "Transformation Pipeline and Model Successfully Saved\n"
     ]
    }
   ],
   "source": [
    "df_complete_tuned_report = pd.DataFrame()\n",
    "for n in target_list:\n",
    "  target_id = n\n",
    "  df_complete = pd.read_csv(f'fingerprints/{target_id}_fingerprints.csv')\n",
    "  df_complete = pIC50_classifier(df_complete, IC50_threshold)\n",
    "  reg = setup(df_complete, target='pIC50_class', session_id=42, use_gpu=True, train_size=0.8, silent= True)\n",
    "  model = create_model(algorithm_id)\n",
    "  tuned_model = tune_model(model, n_iter = 25, search_library = 'optuna', choose_better = True, optimize='F1')\n",
    "  \n",
    "  path = f'models/rf_classifier_{IC50_threshold}_high/{target_id}_{algorithm_id}'\n",
    "  isExist = os.path.exists(path)\n",
    "  if not isExist:\n",
    "    # Create a new directory because it does not exist \n",
    "    os.makedirs(path)\n",
    "  os.chdir(f'models/rf_classifier_{IC50_threshold}_high/{target_id}_{algorithm_id}')\n",
    "\n",
    "  try:\n",
    "    plot_model(tuned_model, plot = 'auc', save = True)\n",
    "    plot_model(tuned_model, plot = 'threshold', save = True)\n",
    "    plot_model(tuned_model, plot = 'pr', save = True)\n",
    "    plot_model(tuned_model, plot = 'confusion_matrix', save = True)\n",
    "    plot_model(tuned_model, plot = 'error', save = True)\n",
    "  except Exception:\n",
    "    pass\n",
    "\n",
    "  stdoutOrigin=sys.stdout \n",
    "  sys.stdout = open(f'hyperparameters_{algorithm_id}_{target_id}.txt', 'w')\n",
    "  print(tuned_model)\n",
    "  sys.stdout.close()\n",
    "  sys.stdout=stdoutOrigin\n",
    "\n",
    "  predicted = predict_model(tuned_model)\n",
    "  predicted_metrics = pull()\n",
    "  predicted_metrics['ChemblID'] = target_id\n",
    "  predicted_metrics.to_csv(f'predicted_metrics_{IC50_threshold}_{algorithm_id}_{target_id}.csv', index = False)\n",
    "  df_complete_tuned_report = pd.concat([df_complete_tuned_report, predicted_metrics])\n",
    "\n",
    "  final_rf = finalize_model(tuned_model)\n",
    "  save_model (final_rf, f'{algorithm_id}_pipeline_{target_id}')\n",
    "\n",
    "  os.chdir('..')\n",
    "  os.chdir('..')\n",
    "  os.chdir('..')"
   ]
  },
  {
   "cell_type": "code",
   "execution_count": 8,
   "metadata": {},
   "outputs": [],
   "source": [
    "df_complete_tuned_report.to_csv(f'{algorithm_id}_classifier_{IC50_threshold}_high_complete_report.csv', index=False)"
   ]
  }
 ],
 "metadata": {
  "interpreter": {
   "hash": "b81b776af565b9b10e050c55faa38e1c1ee276c7ae32150cfa61fcac52dd3059"
  },
  "kernelspec": {
   "display_name": "Python 3.7.12 64-bit ('pycaret': conda)",
   "language": "python",
   "name": "python3"
  },
  "language_info": {
   "codemirror_mode": {
    "name": "ipython",
    "version": 3
   },
   "file_extension": ".py",
   "mimetype": "text/x-python",
   "name": "python",
   "nbconvert_exporter": "python",
   "pygments_lexer": "ipython3",
   "version": "3.7.12"
  },
  "orig_nbformat": 4
 },
 "nbformat": 4,
 "nbformat_minor": 2
}
