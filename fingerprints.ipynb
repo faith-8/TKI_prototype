{
 "cells": [
  {
   "cell_type": "code",
   "execution_count": 2,
   "metadata": {},
   "outputs": [],
   "source": [
    "# Import the needed libraries\n",
    "import pandas as pd\n",
    "import numpy as np\n",
    "from chembl_webresource_client.new_client import new_client\n",
    "from rdkit import Chem\n",
    "from rdkit.Chem import AllChem"
   ]
  },
  {
   "cell_type": "code",
   "execution_count": 3,
   "metadata": {},
   "outputs": [],
   "source": [
    "# Define function to convert IC50 to pIC50\n",
    "def pIC50(input):\n",
    "    pIC50 = []\n",
    "\n",
    "    for i in input['standard_value_norm']:\n",
    "        molar = i*(10**-9) # Converts nM to M\n",
    "        pIC50.append(-np.log10(molar))\n",
    "\n",
    "    input['pIC50'] = pIC50\n",
    "    x = input.drop('standard_value_norm', 1)\n",
    "\n",
    "    return x\n",
    "\n",
    "# Normalized the value if its too large as to not return a negative pIC50\n",
    "def norm_value(input):\n",
    "    norm = []\n",
    "\n",
    "    for i in input['standard_value']:\n",
    "        if i > 100000000:\n",
    "          i = 100000000\n",
    "        norm.append(i)\n",
    "\n",
    "    input['standard_value_norm'] = norm\n",
    "    x = input.drop('standard_value', 1)\n",
    "\n",
    "    return x\n",
    "\n",
    "# Custom function to convert Mol from Smiles\n",
    "def molsmile (smiles):\n",
    "    moldata = []\n",
    "    for m in smiles: # iterate through iterables in smiles\n",
    "        mol = Chem.MolFromSmiles(m) # convert smiles to mols\n",
    "        moldata.append(mol)\n",
    "    return moldata"
   ]
  },
  {
   "cell_type": "code",
   "execution_count": 4,
   "metadata": {},
   "outputs": [],
   "source": [
    "tyr_kinase_dict = {\n",
    "    'prot_name' : [],\n",
    "    'mol_number' : [],\n",
    "    'Chembl_ID' : []\n",
    "}"
   ]
  },
  {
   "cell_type": "code",
   "execution_count": 5,
   "metadata": {},
   "outputs": [],
   "source": [
    "target_df = pd.read_csv('RTK.csv', sep = ';')\n",
    "target_list = target_df.ChemblD.tolist()\n",
    "target_list = target_list[25:] # Re run due to failure"
   ]
  },
  {
   "cell_type": "code",
   "execution_count": 6,
   "metadata": {},
   "outputs": [
    {
     "name": "stderr",
     "output_type": "stream",
     "text": [
      "C:\\Users\\ardos\\AppData\\Local\\Temp/ipykernel_26868/2161655779.py:24: FutureWarning: In a future version of pandas all arguments of DataFrame.drop except for the argument 'labels' will be keyword-only\n",
      "  x = input.drop('standard_value', 1)\n",
      "C:\\Users\\ardos\\AppData\\Local\\Temp/ipykernel_26868/2161655779.py:10: FutureWarning: In a future version of pandas all arguments of DataFrame.drop except for the argument 'labels' will be keyword-only\n",
      "  x = input.drop('standard_value_norm', 1)\n"
     ]
    }
   ],
   "source": [
    "for n in target_list:\n",
    "    target_id = n\n",
    "    activity = new_client.activity\n",
    "    results = activity.filter(target_chembl_id = target_id).filter(standard_type = 'IC50')\n",
    "    df1 = pd.DataFrame.from_dict(results) # Load the results to a dataframe and view\n",
    "    df2 = df1[df1.standard_value.notna()]\n",
    "    df2 = df2[df2.canonical_smiles.notna()]\n",
    "    df2_nr = df2.drop_duplicates(['canonical_smiles'])\n",
    "    df2_nr = df2_nr.loc[df2_nr['standard_units'] == 'nM']\n",
    "\n",
    "    protein_name = df1.target_pref_name[0]\n",
    "\n",
    "    smiles = []\n",
    "    for i in df2_nr.canonical_smiles.tolist():\n",
    "        smi = str(i).split('.')\n",
    "        smi_longest = max(smi, key=len)\n",
    "        smiles.append(smi_longest)\n",
    "    df2_nr.standard_value = df2_nr.standard_value.astype(float)\n",
    "\n",
    "    df1 = norm_value(df2_nr)\n",
    "    df1 = pIC50(df1)\n",
    "    smiles_series = pd.Series(smiles, name = 'canonical_smiles')\n",
    "    df1 = df1[['pIC50', 'molecule_chembl_id']].reset_index()\n",
    "    df1 = pd.concat([df1, smiles_series], axis=1)\n",
    "    df1.replace([np.inf, -np.inf], np.nan, inplace = True)\n",
    "\n",
    "    molecule_number = len(df1)\n",
    "\n",
    "    smile_series = df1.canonical_smiles # Create smile series\n",
    "    mol_series = molsmile(smile_series) # Create mol series\n",
    "    fingerprint_ECFP6 = [AllChem.GetMorganFingerprintAsBitVect(x,3, nBits = 1024) for x in mol_series] # Create efcp6 fingerprints\n",
    "    fingerprint_ECFP6_lists = [list(l) for l in fingerprint_ECFP6] # turn fingerprints to list\n",
    "    ecfp6_name = [f'ecfp_bit_{i}' for i in range(len(fingerprint_ECFP6[1]))] # create bit name\n",
    "    fingerprint_ECFP6_df = pd.DataFrame(fingerprint_ECFP6_lists, index=df1.index, columns=ecfp6_name) # create efcp dataframe\n",
    "    model1 = pd.concat([fingerprint_ECFP6_df, df1.pIC50], axis=1) # add the labels\n",
    "    model1.to_csv(f'fingerprints/{target_id}_fingerprints.csv', index=False)\n",
    "\n",
    "    tyr_kinase_dict['prot_name'].append(protein_name)\n",
    "    tyr_kinase_dict['mol_number'].append(molecule_number)\n",
    "    tyr_kinase_dict['Chembl_ID'].append(target_id)"
   ]
  },
  {
   "cell_type": "code",
   "execution_count": 8,
   "metadata": {},
   "outputs": [],
   "source": [
    "df_report = pd.DataFrame.from_dict(tyr_kinase_dict)\n",
    "df_report.to_csv('fingerprints/report_2.csv', index=False)"
   ]
  }
 ],
 "metadata": {
  "interpreter": {
   "hash": "567697580a681298b208cfca93ab9ffe2255e9653133ec0f62e76376e5823a89"
  },
  "kernelspec": {
   "display_name": "Python 3.8.13 ('env.rdkit')",
   "language": "python",
   "name": "python3"
  },
  "language_info": {
   "codemirror_mode": {
    "name": "ipython",
    "version": 3
   },
   "file_extension": ".py",
   "mimetype": "text/x-python",
   "name": "python",
   "nbconvert_exporter": "python",
   "pygments_lexer": "ipython3",
   "version": "3.9.7"
  },
  "orig_nbformat": 4
 },
 "nbformat": 4,
 "nbformat_minor": 2
}
